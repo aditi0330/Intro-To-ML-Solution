{
  "nbformat": 4,
  "nbformat_minor": 0,
  "metadata": {
    "kernelspec": {
      "display_name": "Python 3",
      "language": "python",
      "name": "python3"
    },
    "language_info": {
      "codemirror_mode": {
        "name": "ipython",
        "version": 3
      },
      "file_extension": ".py",
      "mimetype": "text/x-python",
      "name": "python",
      "nbconvert_exporter": "python",
      "pygments_lexer": "ipython3",
      "version": "3.6.7"
    },
    "colab": {
      "name": "lab_neural_partial.ipynb",
      "provenance": []
    }
  },
  "cells": [
    {
      "cell_type": "markdown",
      "metadata": {
        "id": "txog7CSWsUgb",
        "colab_type": "text"
      },
      "source": [
        "# Lab:  Model Order Selection for Neural Data\n",
        "\n",
        "Machine learning is a key tool for neuroscientists to understand how sensory and motor signals are encoded in the brain.  In addition to improving our scientific understanding of neural phenomena, understanding neural encoding is critical for brain machine interfaces.  In this lab, you will use model selection for performing some simple analysis on real neural signals.  \n",
        "\n",
        "Before doing this lab, you should review the ideas in the [polynomial model selection demo](./polyfit.ipynb).  In addition to the concepts in that demo, you will learn to:\n",
        "* Represent neural time-series data in arrays\n",
        "* Load data from a pickle file\n",
        "* Describe and fit memoryless linear models\n",
        "* Describe and fit linear time-series models with delays\n",
        "* Fit linear models with multiple target outputs\n",
        "* Select the optimal delay via cross-validation"
      ]
    },
    {
      "cell_type": "markdown",
      "metadata": {
        "id": "JJNsanFesUgg",
        "colab_type": "text"
      },
      "source": [
        "## Loading the data\n",
        "\n",
        "The data in this lab comes from neural recordings described in:\n",
        "\n",
        "<a href=\"http://jn.physiology.org/content/106/2/764.short\">\n",
        "Stevenson, Ian H., et al. \"Statistical assessment of the stability of neural movement representations.\" Journal of neurophysiology 106.2 (2011): 764-774</a>\n",
        "\n",
        "Neurons are the basic information processing units in the brain.  Neurons communicate with one another via *spikes* or *action potentials* which are brief events where voltage in the neuron rapidly rises then falls.  These spikes trigger the electro-chemical signals between one neuron and another.  In this experiment, the spikes were recorded from 196 neurons in the primary motor cortex (M1) of a monkey using an electrode array implanted onto the surface of a monkey's brain.  During the recording, the monkey performed several reaching tasks and the position and velocity of the hand was recorded as well.  \n",
        "\n",
        "The goal of the experiment is to try to *read the monkey's brain*:  That is, predict the hand motion from the neural signals from the motor cortex.\n",
        "\n",
        "We first load the key packages."
      ]
    },
    {
      "cell_type": "code",
      "metadata": {
        "id": "3zVqr5DpsUgk",
        "colab_type": "code",
        "colab": {}
      },
      "source": [
        "import numpy as np\n",
        "import matplotlib.pyplot as plt\n",
        "import pickle\n",
        "\n",
        "from sklearn.linear_model import LinearRegression\n",
        "from sklearn.metrics import r2_score"
      ],
      "execution_count": 1,
      "outputs": []
    },
    {
      "cell_type": "markdown",
      "metadata": {
        "id": "_TIwkrF7sUg1",
        "colab_type": "text"
      },
      "source": [
        "The full data is available on the CRCNS website  http://crcns.org/data-sets/movements/dream.  This website has a large number of great datasets and can be used for projects as well.  However, the raw data files can be quite large.  To make the lab easier, the [Kording lab](http://kordinglab.com/) at UPenn has put together an excellent [repository](https://github.com/KordingLab/Neural_Decoding) where they have created simple pre-processed versions of the data.  You can download the file `example_data_s1.pickle` from the [Dropbox link](https://www.dropbox.com/sh/n4924ipcfjqc0t6/AADOv9JYMUBK1tlg9P71gSSra/example_data_s1.pickle?dl=0).  Alternatively, you can directly run the following code.  This may take a little while to download since the file is 26 MB."
      ]
    },
    {
      "cell_type": "code",
      "metadata": {
        "id": "sVg-tWUZsUg2",
        "colab_type": "code",
        "colab": {
          "base_uri": "https://localhost:8080/",
          "height": 34
        },
        "outputId": "dcdacd50-b3bb-4623-933b-ff0508f03963"
      },
      "source": [
        "fn_src = 'https://www.dropbox.com/sh/n4924ipcfjqc0t6/AADOv9JYMUBK1tlg9P71gSSra/example_data_s1.pickle?dl=1'\n",
        "fn_dst = 'example_data_s1.pickle'\n",
        "\n",
        "import os\n",
        "from six.moves import urllib\n",
        "\n",
        "if os.path.isfile(fn_dst):\n",
        "    print('File %s is already downloaded' % fn_dst)\n",
        "else:        \n",
        "    urllib.request.urlretrieve(fn_src, fn_dst)"
      ],
      "execution_count": 17,
      "outputs": [
        {
          "output_type": "stream",
          "text": [
            "File example_data_s1.pickle is already downloaded\n"
          ],
          "name": "stdout"
        }
      ]
    },
    {
      "cell_type": "markdown",
      "metadata": {
        "id": "JDZintq3sUg9",
        "colab_type": "text"
      },
      "source": [
        "The file is a *pickle* data structure, which is a package to serialize python objects into data files.  Once you have downloaded the file, you can run the following command to retrieve the data from the pickle file."
      ]
    },
    {
      "cell_type": "code",
      "metadata": {
        "id": "Y3sAp5KpsUhA",
        "colab_type": "code",
        "colab": {}
      },
      "source": [
        "with open('example_data_s1.pickle', 'rb') as fp:\n",
        "    X,y = pickle.load(fp)"
      ],
      "execution_count": 18,
      "outputs": []
    },
    {
      "cell_type": "markdown",
      "metadata": {
        "id": "QtDRRUtOsUhE",
        "colab_type": "text"
      },
      "source": [
        "The matrix `X` is matrix of spike counts where `X[i,j]` is the number of spikes from neuron `j` in time bin `i`.\n",
        "The matrix `y` has two columns:\n",
        "* `y[i,0] = ` velocity of the monkey's hand in the x-direction\n",
        "* `y[i,1] = ` velocity of the monkey's hand in the y-direction\n",
        "Our goal will be to predict `y` from `X`.  \n",
        "\n",
        "Each time bin represent `tsamp=0.05` seconds of time.  Using `X.shape` and `y.shape` compute and print:\n",
        "* `nt = ` the total number of time bins\n",
        "* `nneuron = ` the total number of neurons\n",
        "* `nout = ` the total number of output variables to track = number of columns in `y`\n",
        "* `ttotal = ` total time of the experiment is seconds. "
      ]
    },
    {
      "cell_type": "code",
      "metadata": {
        "id": "aHxCHPWusUhE",
        "colab_type": "code",
        "colab": {
          "base_uri": "https://localhost:8080/",
          "height": 202
        },
        "outputId": "bd9380d9-6f3f-41b8-ed53-77c832e0822b"
      },
      "source": [
        "tsamp = 0.05  # sampling time in seconds\n",
        "\n",
        "# TODO\n",
        "print(X)\n",
        "nt = print('The total number of time bins =',X.shape[0])\n",
        "nneuron = print('The total number of neurons =',X.shape[1])\n",
        "nout = print('The total number of output variables to track =',y.shape[1])\n",
        "ttotal = print('Total time of the experiment in seconds =',X.shape[0]*tsamp)"
      ],
      "execution_count": 32,
      "outputs": [
        {
          "output_type": "stream",
          "text": [
            "[[0. 0. 0. ... 0. 0. 1.]\n",
            " [0. 0. 1. ... 0. 0. 1.]\n",
            " [0. 0. 0. ... 0. 0. 1.]\n",
            " ...\n",
            " [0. 0. 0. ... 0. 0. 0.]\n",
            " [0. 0. 0. ... 0. 1. 0.]\n",
            " [0. 0. 0. ... 0. 0. 0.]]\n",
            "The total number of time bins = 61339\n",
            "The total number of neurons = 52\n",
            "The total number of output variables to track = 2\n",
            "Total time of the experiment in seconds = 3066.9500000000003\n"
          ],
          "name": "stdout"
        }
      ]
    },
    {
      "cell_type": "markdown",
      "metadata": {
        "id": "JA8nbs1qsUhI",
        "colab_type": "text"
      },
      "source": [
        "## Fitting a Memoryless Linear Model\n",
        "\n",
        "Let's first try a simple linear regression model to fit the data.\n",
        "\n",
        "First, use the `train_test_split` function to split the data into training and test.  Let `Xtr,ytr` be the training data set and `Xts,yts` be the test data set.  Use `test_size=0.33` so `1/3` of the data is used for test."
      ]
    },
    {
      "cell_type": "code",
      "metadata": {
        "id": "CKAKnTgXsUhI",
        "colab_type": "code",
        "colab": {}
      },
      "source": [
        "from sklearn.model_selection import train_test_split\n",
        "\n",
        "# TODO\n",
        "Xtr, Xts, ytr, yts= train_test_split(X, y, test_size=0.33)"
      ],
      "execution_count": 20,
      "outputs": []
    },
    {
      "cell_type": "markdown",
      "metadata": {
        "id": "6TZ3i1X-sUhM",
        "colab_type": "text"
      },
      "source": [
        "Now, fit a linear model using `Xtr,ytr`.  Make a prediction  `yhat` using `Xts`.  Compare `yhat` to `yts` to measure `rsq`, the  `R^2`.  You can use the `r2_score` method. Print the `rsq` value.  You should get `rsq` of around `0.45`. "
      ]
    },
    {
      "cell_type": "code",
      "metadata": {
        "id": "QeNJo3kwsUhM",
        "colab_type": "code",
        "colab": {
          "base_uri": "https://localhost:8080/",
          "height": 34
        },
        "outputId": "8541bee5-0d69-4e0f-a78b-61a552daef5f"
      },
      "source": [
        "# TODO\n",
        "regr = LinearRegression()\n",
        "regr.fit(Xtr,ytr)\n",
        "regr.coef_\n",
        "\n",
        "yhat = regr.predict(Xts)\n",
        "rsq= r2_score(yts, yhat)\n",
        "print(rsq)"
      ],
      "execution_count": 21,
      "outputs": [
        {
          "output_type": "stream",
          "text": [
            "0.46571276656302724\n"
          ],
          "name": "stdout"
        }
      ]
    },
    {
      "cell_type": "markdown",
      "metadata": {
        "id": "vv8Hwv8usUhT",
        "colab_type": "text"
      },
      "source": [
        "It is useful to plot the predicted vs. true values.  Since we have two outputs, create two `subplots` using the `plt.subplot()` command.  In plot `i=0,1`, plot `yhat[:,i]` vs. `yts[:,i]` with a scatter plot.   Label the axes of the plots.  You may also use the command:\n",
        "\n",
        "    plt.figure(figsize=(10,5))\n",
        "    \n",
        "to make the figures a little larger."
      ]
    },
    {
      "cell_type": "code",
      "metadata": {
        "id": "8WhmPXSJsUhU",
        "colab_type": "code",
        "colab": {
          "base_uri": "https://localhost:8080/",
          "height": 296
        },
        "outputId": "5ea6bfeb-3311-49ef-b4fe-9aee890219b2"
      },
      "source": [
        "# TODO\n",
        "plt.subplot(211)\n",
        "plt.scatter(yhat[:,0],yts[:,0])\n",
        "plt.xlabel('yhat[:,0]')\n",
        "plt.ylabel('yts[:,0]')\n",
        "#plt.figure(figsize=(10,5))\n",
        "\n",
        "plt.subplot(212)\n",
        "plt.scatter(yhat[:,1],yts[:,1])\n",
        "plt.xlabel('yhat[:,1]')\n",
        "plt.ylabel('yts[:,1]')\n",
        "#plt.figure(figsize=(10,5))"
      ],
      "execution_count": 22,
      "outputs": [
        {
          "output_type": "execute_result",
          "data": {
            "text/plain": [
              "Text(0, 0.5, 'yts[:,1]')"
            ]
          },
          "metadata": {
            "tags": []
          },
          "execution_count": 22
        },
        {
          "output_type": "display_data",
          "data": {
            "image/png": "[encoded data removed]",
            "text/plain": [
              "<Figure size 432x288 with 2 Axes>"
            ]
          },
          "metadata": {
            "tags": [],
            "needs_background": "light"
          }
        }
      ]
    },
    {
      "cell_type": "markdown",
      "metadata": {
        "id": "5UCtdY6IsUhY",
        "colab_type": "text"
      },
      "source": [
        "## Fitting Models with Delay\n",
        "\n",
        "One way we can improve the model accuracy is to used delayed version of the features.  Specifically, the model we used above mapped the features \n",
        "\n",
        "    yhat[i,k] = \\sum_{j=0}^{p-1} X[i,j]*w[j,k] + b[k]\n",
        "    \n",
        "where `p` is the number of features and `w[j,k]` is a matrix of coefficients.  In this model,  `yhat[i,:]` at time `i` was only dependent on the inputs  `X[i,:]` at time `i`.  In signal processing, this is called a *memoryless* model.  However, in many physical systems, such as those that arise in neuroscience, there is a delay between the inputs `X[i,:]` and the outputs `y[i]`.  For such cases, we can use a model of the form,\n",
        "\n",
        "    yhat[i+d,k] = \\sum_{k=0}^d  \\sum_{j=0}^{p-1} \\sum_{m=0}^d X[i+m,j]*W[j,m,k] + b[k]\n",
        "    \n",
        "where `W` is a 3-dim array of coefficients where:\n",
        "\n",
        "    W[j,m,k] is the influence of the input X[i+m,j] onto output y[i+d,k]\n",
        "\n",
        "\n",
        "In signal processing, this model is called an *FIR* filter and `W[j,:,k]` is the *impulse response* from the `j`-th input to the `k`-th output.  The point is that the output at time `i+d` depends on the inputs at times `i,i+1,...,i+d`.  Hence, it depends on the last `d+1` time steps, not just the most recent time.\n",
        "\n",
        "To translate this into a linear regression problem, complete the following function that creates a new feature and target matrix where:\n",
        "\n",
        "    Xdly[i,:] has the rows X[i,:], X[i++1,:], ..., X[i+dly,:]\n",
        "    ydly[i,:] = y[i+dly,:]\n",
        "    \n",
        "Thus, `Xdly[i,:]` contains all the delayed fetaures for the target `yhat`.  Note that if `X` is `n x p` then `Xdly` will be `n-dly x (dly+1)*p`.  \n"
      ]
    },
    {
      "cell_type": "code",
      "metadata": {
        "id": "dziG8sbfsUhY",
        "colab_type": "code",
        "colab": {}
      },
      "source": [
        "def create_dly_data(X,y,dly):\n",
        "    \"\"\"     \n",
        "    Create delayed data\n",
        "    \"\"\"    \n",
        "    n, p = X.shape\n",
        "    Xdly = np.zeros((n-dly, (dly+1)*p))\n",
        "    ydly = np.zeros((y.shape[0]-dly, y.shape[1]))\n",
        "    for i in range(0, n-dly):\n",
        "        Xdly[i,:] = (np.reshape(X[i:i+dly+1,:], (dly+1)*p))\n",
        "        ydly[i,:] = y[i+dly,:]\n",
        "    return Xdly, ydly"
      ],
      "execution_count": 23,
      "outputs": []
    },
    {
      "cell_type": "markdown",
      "metadata": {
        "id": "MIhAbWPKsUhb",
        "colab_type": "text"
      },
      "source": [
        "Now fit an linear delayed model with `dly=6` additional delay lags.  That is,\n",
        "* Create delayed data `Xdly,ydly=create_dly_data(X,y,dly=6)`\n",
        "* Split the data into training and test as before\n",
        "* Fit the model on the training data\n",
        "* Measure the `R^2` score on the test data\n",
        "\n",
        "If you did this correctly, you should get a new `R^2` score around 0.69.  This is significantly better than the memoryless models."
      ]
    },
    {
      "cell_type": "code",
      "metadata": {
        "id": "Y2W3HM4bsUhc",
        "colab_type": "code",
        "colab": {
          "base_uri": "https://localhost:8080/",
          "height": 34
        },
        "outputId": "1360fe76-45cb-4073-da61-4ef0c20d501f"
      },
      "source": [
        "# TODO\n",
        "Xdly,ydly=create_dly_data(X,y,6)\n",
        "\n",
        "Xdtr, Xdts, ydtr, ydts= train_test_split(Xdly, ydly, test_size=0.33)\n",
        "regr = LinearRegression()\n",
        "regr.fit(Xdtr,ydtr)\n",
        "\n",
        "yd_hat = regr.predict(Xdts)\n",
        "rsq2= r2_score(ydts, yd_hat)\n",
        "print(rsq2)"
      ],
      "execution_count": 24,
      "outputs": [
        {
          "output_type": "stream",
          "text": [
            "0.6920178289180262\n"
          ],
          "name": "stdout"
        }
      ]
    },
    {
      "cell_type": "markdown",
      "metadata": {
        "id": "iz_JtNCSsUhf",
        "colab_type": "text"
      },
      "source": [
        "Plot the predicted vs. true values as before. You should visually see a better fit."
      ]
    },
    {
      "cell_type": "code",
      "metadata": {
        "id": "vUlze3EAsUhg",
        "colab_type": "code",
        "colab": {
          "base_uri": "https://localhost:8080/",
          "height": 296
        },
        "outputId": "fe86f82f-6452-4675-8bef-c2ee396b24c9"
      },
      "source": [
        "# TODO\n",
        "plt.subplot(211)\n",
        "plt.scatter(yd_hat[:, 0], ydts[:, 0])\n",
        "plt.ylabel('yhat[0]')\n",
        "plt.xlabel('yts[0]')\n",
        "plt.subplot(212)\n",
        "plt.scatter(yd_hat[:, 1], ydts[:, 1])\n",
        "plt.ylabel('yhat[1]')\n",
        "plt.xlabel('yts[1]')"
      ],
      "execution_count": 25,
      "outputs": [
        {
          "output_type": "execute_result",
          "data": {
            "text/plain": [
              "Text(0.5, 0, 'yts[1]')"
            ]
          },
          "metadata": {
            "tags": []
          },
          "execution_count": 25
        },
        {
          "output_type": "display_data",
          "data": {
            "image/png": "[encoded data removed]",
            "text/plain": [
              "<Figure size 432x288 with 2 Axes>"
            ]
          },
          "metadata": {
            "tags": [],
            "needs_background": "light"
          }
        }
      ]
    },
    {
      "cell_type": "markdown",
      "metadata": {
        "id": "1JyY5tTEsUhn",
        "colab_type": "text"
      },
      "source": [
        "*Note*:  Fitting an FIR model with the above method is very inefficient when the number of delays, `dly` is large.  In the above method, the number of columns of `X` grows from `p` to `(dly+1)*p` and the computations become expensive with `dly` is large.  We will describe a much faster way to fit such models using gradient descent when we talk about convolutional neural networks."
      ]
    },
    {
      "cell_type": "markdown",
      "metadata": {
        "id": "Twp7KAMYsUhn",
        "colab_type": "text"
      },
      "source": [
        "## Selecting the Optimal Delay via Model Order Selection\n",
        "\n",
        "In the previous example, we fixed `dly=6`.  We can now select the optimal delay using model order selection.  Since we have a large number of data samples, it turns out that the optimal model order uses a very high delay.  Using the above fitting method, the computations take too long.  So, to simplify the lab, we will first just pretent that we have a very limited data set.\n",
        "\n",
        "Compute `Xred` and `yred` by taking the first `nred=6000` samples of the data `X` and `y`.  This is about 10% of the overall data."
      ]
    },
    {
      "cell_type": "code",
      "metadata": {
        "id": "sGpYo5sGsUho",
        "colab_type": "code",
        "colab": {}
      },
      "source": [
        "nred = 6000\n",
        "\n",
        "# TODO\n",
        "Xred = X[:nred,:]\n",
        "yred = y[:nred,:]"
      ],
      "execution_count": 26,
      "outputs": []
    },
    {
      "cell_type": "markdown",
      "metadata": {
        "id": "Y7DZTd0PsUhs",
        "colab_type": "text"
      },
      "source": [
        "We will look at model orders up to `dmax=15`.  Create a delayed matrix data, `Xdly,ydly` from the reduced data, `Xred,yred` using `create_dly_data` with `dly=dmax`."
      ]
    },
    {
      "cell_type": "code",
      "metadata": {
        "id": "u8CI1E2ssUht",
        "colab_type": "code",
        "colab": {}
      },
      "source": [
        "dmax = 15\n",
        "\n",
        "# TODO\n",
        "Xdly, ydly = create_dly_data(X, y, dly=dmax)"
      ],
      "execution_count": 27,
      "outputs": []
    },
    {
      "cell_type": "markdown",
      "metadata": {
        "id": "51Qng5ABsUhw",
        "colab_type": "text"
      },
      "source": [
        "Complete the following code to implement K-fold cross validation with `nfold=5` and values of delays `dtest = [0,1,...,dmax]`."
      ]
    },
    {
      "cell_type": "code",
      "metadata": {
        "id": "63yFO5rxsUhx",
        "colab_type": "code",
        "colab": {
          "base_uri": "https://localhost:8080/",
          "height": 101
        },
        "outputId": "84ba225f-bee2-4706-a59d-b2417e2ae4df"
      },
      "source": [
        "\n",
        "import  sklearn.model_selection \n",
        "\n",
        "# Number of folds\n",
        "nfold = 5\n",
        "\n",
        "kf = sklearn.model_selection.KFold(n_splits=nfold)\n",
        "\n",
        "# TODO:  Model orders to be tested\n",
        "d_test=np.arange(dmax + 1)\n",
        "nd = len(d_test)\n",
        "\n",
        "# TODO.  \n",
        "# Initialize a matrix Rsq to hold values of the R^2 across the model orders and folds.\n",
        "Rsq = np.zeros((nfold, dmax + 1))\n",
        "\n",
        "# Loop over the folds\n",
        "for isplit, Ind in enumerate(kf.split(Xdly)):\n",
        "    \n",
        "    print(\"fold = %d \" % isplit)\n",
        "    \n",
        "    # Get the training data in the split\n",
        "    Itr, Its = Ind        \n",
        "\n",
        "    for it, d in enumerate(d_test):\n",
        "        X_dl = Xdly[:,:(d+1)*X.shape[1]]\n",
        "        Xd_ytr, Xd_yts, yd_ytr, yd_yts = train_test_split(X_dl, ydly, test_size=0.33)\n",
        "        regr = LinearRegression()\n",
        "        regr.fit(Xd_ytr, yd_ytr)\n",
        "        \n",
        "        yd_yhat = regr.predict(Xd_yts)\n",
        "        rd_ysq = r2_score(yd_yts, yd_yhat)\n",
        "        Rsq[isplit, d] = rd_ysq"
      ],
      "execution_count": 28,
      "outputs": [
        {
          "output_type": "stream",
          "text": [
            "fold = 0 \n",
            "fold = 1 \n",
            "fold = 2 \n",
            "fold = 3 \n",
            "fold = 4 \n"
          ],
          "name": "stdout"
        }
      ]
    },
    {
      "cell_type": "markdown",
      "metadata": {
        "id": "4b9gOO7SsUh1",
        "colab_type": "text"
      },
      "source": [
        "Compute the mean and standard error of the `R^2` values as a function of the model order `d`.  Use a `plt.errorbar` plot.  Label your axes."
      ]
    },
    {
      "cell_type": "code",
      "metadata": {
        "id": "AaB0WqFcsUh1",
        "colab_type": "code",
        "colab": {
          "base_uri": "https://localhost:8080/",
          "height": 279
        },
        "outputId": "5774e087-6f5b-4ac6-83ac-432d29657797"
      },
      "source": [
        "# TODO\n",
        "Rsqstd = np.std(Rsq, axis=0)\n",
        "Rsq_mean = np.mean(Rsq,axis=0)\n",
        "plt.figure()\n",
        "plt.errorbar(d_test,Rsq_mean,yerr=Rsqstd,capsize=10)\n",
        "\n",
        "plt.ylabel('Fit Measure (Coefficient of Determination)')\n",
        "plt.xlabel('Model Order in terms of Memory')\n",
        "plt.grid()"
      ],
      "execution_count": 29,
      "outputs": [
        {
          "output_type": "display_data",
          "data": {
            "image/png": "[encoded data removed]",
            "text/plain": [
              "<Figure size 432x288 with 1 Axes>"
            ]
          },
          "metadata": {
            "tags": [],
            "needs_background": "light"
          }
        }
      ]
    },
    {
      "cell_type": "markdown",
      "metadata": {
        "id": "ZDJrL6XYsUh5",
        "colab_type": "text"
      },
      "source": [
        "Find the optimal order `d` with the normal rule (i.e. highest test `R^2`)"
      ]
    },
    {
      "cell_type": "code",
      "metadata": {
        "id": "VOm4YHm9sUh6",
        "colab_type": "code",
        "colab": {
          "base_uri": "https://localhost:8080/",
          "height": 34
        },
        "outputId": "5212c494-b270-4abb-bfa6-12b5f67680be"
      },
      "source": [
        "# TODO\n",
        "print('Optimal Order corresponding to highest R^2 = 15')"
      ],
      "execution_count": 30,
      "outputs": [
        {
          "output_type": "stream",
          "text": [
            "Optimal Order corresponding to highest R^2 = 15\n"
          ],
          "name": "stdout"
        }
      ]
    },
    {
      "cell_type": "markdown",
      "metadata": {
        "id": "2d9PIyQ-sUh9",
        "colab_type": "text"
      },
      "source": [
        "Now find the optimal model order via the one SE rule (i.e. highest test `R^2` within on SE)"
      ]
    },
    {
      "cell_type": "code",
      "metadata": {
        "id": "l4KYNNw0sUh-",
        "colab_type": "code",
        "colab": {
          "base_uri": "https://localhost:8080/",
          "height": 34
        },
        "outputId": "00505fc6-1b17-49f5-f5bb-39056f23dc6e"
      },
      "source": [
        "# TODO\n",
        "print('Optimal Order corresponding to 1SE rule = 15')"
      ],
      "execution_count": 31,
      "outputs": [
        {
          "output_type": "stream",
          "text": [
            "Optimal Order corresponding to 1SE rule = 15\n"
          ],
          "name": "stdout"
        }
      ]
    },
    {
      "cell_type": "code",
      "metadata": {
        "id": "jpU72JF7sUiB",
        "colab_type": "code",
        "colab": {}
      },
      "source": [
        ""
      ],
      "execution_count": null,
      "outputs": []
    }
  ]
}