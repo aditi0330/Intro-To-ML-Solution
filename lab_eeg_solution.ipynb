{
  "nbformat": 4,
  "nbformat_minor": 0,
  "metadata": {
    "kernelspec": {
      "display_name": "Python 3",
      "language": "python",
      "name": "python3"
    },
    "language_info": {
      "codemirror_mode": {
        "name": "ipython",
        "version": 3
      },
      "file_extension": ".py",
      "mimetype": "text/x-python",
      "name": "python",
      "nbconvert_exporter": "python",
      "pygments_lexer": "ipython3",
      "version": "3.6.7"
    },
    "colab": {
      "name": "lab_eeg_partial.ipynb",
      "provenance": []
    }
  },
  "cells": [
    {
      "cell_type": "markdown",
      "metadata": {
        "id": "MX9BEER6FWKj"
      },
      "source": [
        "# Lab:  Source Localization for EEG\n",
        "\n",
        "EEG or [Electroencephalography](https://en.wikipedia.org/wiki/Electroencephalography) is a powerful tool for neuroscientists in understanding brain activity.  In EEG, a patient wears a headset with electrodes that measures voltages at a number of points on the scalp.  These voltages arise from ionic currents within the brain.  A common *inverse problem* is to estimate the which parts of the brain caused the measured response.  Source localization is useful in understanding which parts of the brain are involved in certain tasks.  A key challenge in this inverse problem is that the number of unknowns (possible locations in the brain) is much larger than the number of measurements.  In this lab, we will use LASSO regression on a real EEG dataset to overcome this problem and determine the brain region that is active under an auditory stimulus.\n",
        "\n",
        "In addition to the concepts in the [prostate LASSO demo](./demo_prostate.ipynb) you will learn to:\n",
        "* Represent responses of multi-channel time-series data, such as EEG, using linear models\n",
        "* Perform LASSO and Ridge regression\n",
        "* Select the regularization level via cross-validation\n",
        "* Visually compare the sparsity between the solutions\n",
        "\n",
        "We first download standard packages."
      ]
    },
    {
      "cell_type": "code",
      "metadata": {
        "id": "6gUlegBbFWKo"
      },
      "source": [
        "import numpy as np\n",
        "import matplotlib.pyplot as plt\n",
        "import pickle\n",
        "\n",
        "from sklearn.linear_model import Lasso, Ridge, ElasticNet\n",
        "from sklearn.metrics import r2_score\n",
        "from sklearn.model_selection import train_test_split"
      ],
      "execution_count": 1,
      "outputs": []
    },
    {
      "cell_type": "markdown",
      "metadata": {
        "id": "mgvM73o6FWK0"
      },
      "source": [
        "## Load the Data\n",
        "\n",
        "The data in this lab is taken from one of the sample datasets in the [MNE website](https://martinos.org/mne/stable/index.html). The sample data is a recording from one subject who experienced some auditory stimulus on the left ear.    \n",
        "\n",
        "The raw data is very large (`1.5G`) and also requires that you install the `mne` python package. To make this lab easier, I have extracted and processed a small section of the data. The following command will download a `pickle` file `eeg_dat.p` to your local machine.  If you do want to create the data yourself, the program to create the data is in this directory in the github repository."
      ]
    },
    {
      "cell_type": "code",
      "metadata": {
        "id": "O3FSEQmwFWK1",
        "outputId": "0e9444c4-550b-45b2-d112-88b95ada870f",
        "colab": {
          "base_uri": "https://localhost:8080/",
          "height": 50
        }
      },
      "source": [
        "fn_src ='https://drive.google.com/uc?export=download&id=1RzQpKONOcXSMxH2ZzOI4iVMiTgD6ttSl'\n",
        "fn_dst ='eeg_dat.p'\n",
        "\n",
        "import os\n",
        "from six.moves import urllib\n",
        "\n",
        "if os.path.isfile(fn_dst):\n",
        "    print('File %s is already downloaded' % fn_dst)\n",
        "else:        \n",
        "    print('Fetching file %s [53MB].  This may take a minute..' % fn_dst)\n",
        "    urllib.request.urlretrieve(fn_src, fn_dst)\n",
        "    print('File %s downloaded' % fn_dst)"
      ],
      "execution_count": 2,
      "outputs": [
        {
          "output_type": "stream",
          "text": [
            "Fetching file eeg_dat.p [53MB].  This may take a minute..\n",
            "File eeg_dat.p downloaded\n"
          ],
          "name": "stdout"
        }
      ]
    },
    {
      "cell_type": "markdown",
      "metadata": {
        "id": "bUOQ-fQTFWK_"
      },
      "source": [
        "Now run the following command which will get the data from the `pickle` file."
      ]
    },
    {
      "cell_type": "code",
      "metadata": {
        "id": "sA9cEIkRFWLA"
      },
      "source": [
        "import pickle\n",
        "fn = 'eeg_dat.p'\n",
        "with open(fn, 'rb') as fp:\n",
        "    [X,Y] = pickle.load(fp)"
      ],
      "execution_count": 3,
      "outputs": []
    },
    {
      "cell_type": "markdown",
      "metadata": {
        "id": "r1RxkN0NFWLP"
      },
      "source": [
        "To understand the data, there are three key variables:\n",
        "* `nt`    = number of time steps that we measure data\n",
        "* `nchan` = number of channels (i.e. electrodes) measured in each time step\n",
        "* `ncur`  = number of currents in the brain that we want to estimate.  \n",
        "\n",
        "Each current comes from one brain region (called a *voxel*) in either the `x`, `y` or `z` direction.  So,\n",
        "\n",
        "    nvoxels = ncur / 3\n",
        "    \n",
        "The components of the `X` and `Y` matrices are:\n",
        "*  `Y[i,k]` = electric field measurement on channel `i` at time `k`\n",
        "*  `X[i,j]` = sensitivity of channel `i` to current `j`.\n",
        "\n",
        "Using `X.shape` and `Y.shape` compute and print `nt`, `nchan`, `ncur` and `nvoxels`."
      ]
    },
    {
      "cell_type": "code",
      "metadata": {
        "id": "8lbzfYoJFWLS",
        "outputId": "493c9539-8045-42c0-d220-467c2dd4cf84",
        "colab": {
          "base_uri": "https://localhost:8080/",
          "height": 84
        }
      },
      "source": [
        "# TODO\n",
        "nt =  Y.shape[1]\n",
        "ncur = X.shape[1]\n",
        "nchan = Y.shape[0]\n",
        "nvoxels= ncur/3\n",
        "print('Nt = ',nt)\n",
        "print('Ncur = ',ncur)\n",
        "print('Nchan = ',nchan)\n",
        "print('nvoxels = ',nvoxels)"
      ],
      "execution_count": 4,
      "outputs": [
        {
          "output_type": "stream",
          "text": [
            "Nt =  85\n",
            "Ncur =  22494\n",
            "Nchan =  305\n",
            "nvoxels =  7498.0\n"
          ],
          "name": "stdout"
        }
      ]
    },
    {
      "cell_type": "markdown",
      "metadata": {
        "id": "VuUx8FERFWLb"
      },
      "source": [
        "## Ridge Regression\n",
        "\n",
        "Our goal is to estimate the currents in the brain from the measurements `Y`.  One simple linear model is:\n",
        "\n",
        "    Y[i,k]  = \\sum_j X[i,j]*W[j,k]+ b[k]\n",
        "\n",
        "where `W[j,k]` is the value of current `j` at time `k` and `b[k]` is a bias.  We can solve for the current matrix `W` via linear regression.  \n",
        "\n",
        "Howeever, there is a problem:\n",
        "*  There are `nt x ncur` unknowns in `W`\n",
        "*  There are only `nt x nchan` measurements in `Y`.\n",
        "\n",
        "In this problem, we have:\n",
        "\n",
        "    number of measurements  << number of unknowns\n",
        "    \n",
        "We need to use regularization in these circumstances.  We first try Ridge regression.\n",
        "\n",
        "First split the data into training and test.  Use the `train_test_split` function with `test_size=0.33`."
      ]
    },
    {
      "cell_type": "code",
      "metadata": {
        "id": "yyvFC6XIFWLc"
      },
      "source": [
        "# TODO\n",
        "Xtr,Xts,Ytr,Yts = train_test_split(X,Y,test_size=0.33,shuffle=True)"
      ],
      "execution_count": 5,
      "outputs": []
    },
    {
      "cell_type": "markdown",
      "metadata": {
        "id": "8oeC3IXTFWLl"
      },
      "source": [
        "Use the `Ridge` regression object in `sklearn` to fit the model on the training data.  Use a regularization, `alpha=1`."
      ]
    },
    {
      "cell_type": "code",
      "metadata": {
        "id": "8BYHmE1IFWLn",
        "outputId": "42bbaa11-dee0-4df1-ccd9-272f6a1ceea3",
        "colab": {
          "base_uri": "https://localhost:8080/",
          "height": 50
        }
      },
      "source": [
        "# TODO\n",
        "regr =Ridge(alpha=1)\n",
        "regr.fit(Xtr,Ytr)"
      ],
      "execution_count": 7,
      "outputs": [
        {
          "output_type": "execute_result",
          "data": {
            "text/plain": [
              "Ridge(alpha=1, copy_X=True, fit_intercept=True, max_iter=None, normalize=False,\n",
              "      random_state=None, solver='auto', tol=0.001)"
            ]
          },
          "metadata": {
            "tags": []
          },
          "execution_count": 7
        }
      ]
    },
    {
      "cell_type": "markdown",
      "metadata": {
        "id": "v2BAwg2cFWLw"
      },
      "source": [
        "Preict the values `Y` on both the training and test data.  Use the `r2_score` method to measure the `R^2` value on both the training and test.  You will see that `R^2` value is large for the training data, it is very low for the test data.  This suggest that even with regularization, the model is over-fitting the data."
      ]
    },
    {
      "cell_type": "code",
      "metadata": {
        "id": "IfJTiARwFWL0",
        "outputId": "89bdee08-5bff-4f09-bca5-083b7de473ca",
        "colab": {
          "base_uri": "https://localhost:8080/",
          "height": 50
        }
      },
      "source": [
        "# TODO\n",
        "y_tr_pred = regr.predict(Xtr)\n",
        "rsq_tr = r2_score(Ytr,y_tr_pred)\n",
        "print('r^2 for training =',rsq_tr )\n",
        "\n",
        "y_ts_pred = regr.predict(Xts)\n",
        "rsq_ts = r2_score(Yts,y_ts_pred)\n",
        "print('r^2 for testing =',rsq_ts)"
      ],
      "execution_count": 8,
      "outputs": [
        {
          "output_type": "stream",
          "text": [
            "r^2 for training = 0.6084368065352428\n",
            "r^2 for testing = 0.1654785370210887\n"
          ],
          "name": "stdout"
        }
      ]
    },
    {
      "cell_type": "markdown",
      "metadata": {
        "id": "frq4_wH-FWL_"
      },
      "source": [
        "Next, try to see if we can get a better `R^2` score using different values of `alpha`.  Use cross-validation to measure the test `R^2` for 20 `alpha` values logarithmically spaced from `10^{-2}` to `10^{2}` (use `np.logspace()`).  You can use regular cross-validation.  You do not need to do `K`-fold."
      ]
    },
    {
      "cell_type": "code",
      "metadata": {
        "id": "IAcBwRDjFWME"
      },
      "source": [
        "# TODO\n",
        "nalpha = 20\n",
        "alphas = np.logspace(-2,2,nalpha)\n",
        "\n",
        "rsq_pl=np.zeros(nalpha)\n",
        "count = 0\n",
        "for count, alpha in enumerate(alphas):\n",
        "    regr =Ridge(alpha)\n",
        "    regr.fit(Xtr,Ytr)\n",
        "    y_ts_pred = regr.predict(Xts)\n",
        "    rsq_pl[count] = r2_score(Yts,y_ts_pred)\n",
        "    count += 1"
      ],
      "execution_count": 9,
      "outputs": []
    },
    {
      "cell_type": "markdown",
      "metadata": {
        "id": "IPjTqp_XFWMP"
      },
      "source": [
        "Plot the test `R^2` vs. `alpha`.  And print the maximum test `R^2`.  You should see that the maximum test `R^2` is still not very high."
      ]
    },
    {
      "cell_type": "code",
      "metadata": {
        "id": "s9XL4jUdFWMR",
        "outputId": "3037ca89-aec9-4b17-cec9-278cf3aec304",
        "colab": {
          "base_uri": "https://localhost:8080/",
          "height": 300
        }
      },
      "source": [
        "# TODO\n",
        "plt.semilogx(alphas,rsq_pl,'r-')\n",
        "plt.xlabel('Alpha: Regularization Strength')\n",
        "plt.ylabel('R^2 Score')\n",
        "print('Maximum R^2=',np.max(rsq_pl))"
      ],
      "execution_count": 11,
      "outputs": [
        {
          "output_type": "stream",
          "text": [
            "Maximum R^2= 0.18679518387723776\n"
          ],
          "name": "stdout"
        },
        {
          "output_type": "display_data",
          "data": {
            "image/png": "[encoded data removed]",
            "text/plain": [
              "<Figure size 432x288 with 1 Axes>"
            ]
          },
          "metadata": {
            "tags": [],
            "needs_background": "light"
          }
        }
      ]
    },
    {
      "cell_type": "markdown",
      "metadata": {
        "id": "6CFpDoo-FWMY"
      },
      "source": [
        "Now, let's take a look at the solution. \n",
        "\n",
        "* Find the optimal regularization `alpha` from the cross-validation\n",
        "* Re-fit the model at the optimal `alpha`\n",
        "* Get the current matrix `W` from the coefficients in the linear model.  These are stored in `regr.coef_`.  You may need a transpose\n",
        "* For each current `j` compute `Wrms[j] =  sqrt( sum_k W[j,k]**2 )` which is root mean squared current.\n",
        "\n",
        "You will see that the vector `Wrms` is not sparse.  This means that the solution that is found with Ridge regression finds currents in all locations."
      ]
    },
    {
      "cell_type": "code",
      "metadata": {
        "id": "tX7lLi42FWMa",
        "outputId": "b35e480c-c4ad-402e-c521-ced6bd4a816d",
        "colab": {
          "base_uri": "https://localhost:8080/",
          "height": 50
        }
      },
      "source": [
        "# TODO\n",
        "opt_alpha=alphas[np.argmax(rsq_pl)]\n",
        "print('Optimal regularization alpha=',opt_alpha)\n",
        "\n",
        "regr =Ridge(opt_alpha)\n",
        "regr.fit(Xtr,Ytr)\n",
        "y_ts_pred = regr.predict(Xts)\n",
        "rsq_ts = r2_score(Yts,y_ts_pred)\n",
        "\n",
        "W=np.matrix.transpose(regr.coef_)\n",
        "Wrms = np.sqrt(np.sum(np.square((W)),axis=1))\n",
        "L0norm = np.linalg.norm( Wrms,ord=0)\n",
        "print('Total no. of Non-Zero elements in Wrms=',L0norm)"
      ],
      "execution_count": 12,
      "outputs": [
        {
          "output_type": "stream",
          "text": [
            "Optimal regularization alpha= 0.4832930238571752\n",
            "Total no. of Non-Zero elements in Wrms= 22494.0\n"
          ],
          "name": "stdout"
        }
      ]
    },
    {
      "cell_type": "markdown",
      "metadata": {
        "id": "4NX6UPc3FWMl"
      },
      "source": [
        "## LASSO Regression\n",
        "\n",
        "We can improve the estimate by imposing sparsity.  Biologically, we know that only a limited number of brain regions should be involved in the reponse to a particular stimuli.  As a result, we would expect that the current matrix `W[j,k]` to be zero for most values `j,k`.  We can impose this constraint using LASSO regularization.\n",
        "\n",
        "Re-fit the training data using the `Lasso` model with `alpha=1e-3`.  Also set `max_iter=100` and `tol=0.01`.  The LASSO solver is much slower, so this make take a minute."
      ]
    },
    {
      "cell_type": "code",
      "metadata": {
        "id": "21s3-UQRFWMn",
        "outputId": "371e797e-8681-462e-e66c-d8a35347f64c",
        "colab": {
          "base_uri": "https://localhost:8080/",
          "height": 34
        }
      },
      "source": [
        "# TODO\n",
        "alpha=1e-3\n",
        "model = Lasso(alpha,max_iter=100,tol=0.01)\n",
        "model.fit(Xtr,Ytr)\n",
        "\n",
        "y_tr_pred = model.predict(Xtr)\n",
        "rsq_tr = r2_score(Ytr,y_tr_pred)\n",
        "print('r^2 for training =',rsq_tr )"
      ],
      "execution_count": 13,
      "outputs": [
        {
          "output_type": "stream",
          "text": [
            "r^2 for training = 0.2372875450173422\n"
          ],
          "name": "stdout"
        }
      ]
    },
    {
      "cell_type": "markdown",
      "metadata": {
        "id": "PK0VpK2vFWMu"
      },
      "source": [
        "Now, test the model on the test data and measure the `R^2` value.  You should get a much better fit than with the Ridge regression solution.  "
      ]
    },
    {
      "cell_type": "code",
      "metadata": {
        "id": "4lfQNsmOFWMw",
        "outputId": "a123806e-9cf5-4d7c-bdb8-951c3bb3d0e2",
        "colab": {
          "base_uri": "https://localhost:8080/",
          "height": 34
        }
      },
      "source": [
        "# TODO\n",
        "model.fit(Xts,Yts)\n",
        "y_ts_pred = model.predict(Xts)\n",
        "rsq_ts = r2_score(Yts,y_ts_pred)\n",
        "print('R^2(Test) =',rsq_ts )"
      ],
      "execution_count": 14,
      "outputs": [
        {
          "output_type": "stream",
          "text": [
            "R^2(Test) = 0.20650321383283143\n"
          ],
          "name": "stdout"
        }
      ]
    },
    {
      "cell_type": "markdown",
      "metadata": {
        "id": "AF6DCZqCFWM7"
      },
      "source": [
        "We can now search for the optimal `alpha`.  Use cross-validation to find the `alpha` logarithically space between `alpha=10^{-3}` and `alpha=10^{-4}`.  Each fit takes some time, so use only 5 values of `alpha`. Also for each `alpha` store the current matrix.  This way, you will not have to re-fit the model."
      ]
    },
    {
      "cell_type": "code",
      "metadata": {
        "id": "kR1jZ-NVFWM9"
      },
      "source": [
        "# TODO\n",
        "nalpha = 5\n",
        "alphas = np.logspace(-3,-4,nalpha)\n",
        "\n",
        "rsq_ls=np.zeros(nalpha)\n",
        "count = 0\n",
        "for count, alpha in enumerate(alphas):\n",
        "    regr =Lasso(alpha,max_iter=100,tol=0.01)\n",
        "    regr.fit(Xtr,Ytr)\n",
        "    y_ts_pred = regr.predict(Xts)\n",
        "    rsq_ls[count] = r2_score(Yts,y_ts_pred)\n",
        "    count += 1"
      ],
      "execution_count": 15,
      "outputs": []
    },
    {
      "cell_type": "markdown",
      "metadata": {
        "id": "i4_ShwzQFWNF"
      },
      "source": [
        "Plot the `r^2` value vs. `alpha`.  Print the optimal `r^2`.  You should see it is much higher than with the best Ridge Regression case."
      ]
    },
    {
      "cell_type": "code",
      "metadata": {
        "id": "IWwHl1imFWNG",
        "outputId": "75db6128-fc4c-4b37-9e7a-8f5fb9f9f8f9",
        "colab": {
          "base_uri": "https://localhost:8080/",
          "height": 334
        }
      },
      "source": [
        "# TODO\n",
        "plt.semilogx(alphas,rsq_ls,'r-')\n",
        "opt_alpha=alphas[np.argmax(rsq_ls)]\n",
        "print(' Max r^2=',np.max(rsq_ls))\n",
        "print('Optimal regularization alpha=',opt_alpha)\n",
        "plt.xlabel('Alpha: Regularization Strength')\n",
        "plt.ylabel('R^2 Score')"
      ],
      "execution_count": 17,
      "outputs": [
        {
          "output_type": "stream",
          "text": [
            " Max r^2= 0.3526629433077292\n",
            "Optimal regularization alpha= 0.00017782794100389227\n"
          ],
          "name": "stdout"
        },
        {
          "output_type": "execute_result",
          "data": {
            "text/plain": [
              "Text(0, 0.5, 'R^2 Score')"
            ]
          },
          "metadata": {
            "tags": []
          },
          "execution_count": 17
        },
        {
          "output_type": "display_data",
          "data": {
            "image/png": "[encoded data removed]",
            "text/plain": [
              "<Figure size 432x288 with 1 Axes>"
            ]
          },
          "metadata": {
            "tags": [],
            "needs_background": "light"
          }
        }
      ]
    },
    {
      "cell_type": "markdown",
      "metadata": {
        "id": "U9wqDJ5uFWNN"
      },
      "source": [
        "Display the current matrix `W` for the optimal `alpha` as you did in the Ridge Regression case.  You will see that is much sparser."
      ]
    },
    {
      "cell_type": "code",
      "metadata": {
        "id": "d9fyNnXUFWNX",
        "outputId": "2a69f881-784d-48e4-b95f-aa712a4ece8d",
        "colab": {
          "base_uri": "https://localhost:8080/",
          "height": 269
        }
      },
      "source": [
        "# TODO\n",
        "regr =Lasso(opt_alpha,max_iter=100,tol=0.01)\n",
        "regr.fit(Xtr,Ytr)\n",
        "y_ts_pred = regr.predict(Xts)\n",
        "rsq_ts = r2_score(Yts,y_ts_pred)\n",
        "print('r^2 Test:',rsq_ts)\n",
        "\n",
        "W=np.matrix.transpose(regr.coef_)\n",
        "print('W=',W)\n",
        "Wrms = np.sqrt(np.sum(np.square((W)),axis=1))\n",
        "L0norm = np.linalg.norm( Wrms,ord=0)\n",
        "print('Total no. of Non-Zero elements in Wrms=',L0norm)"
      ],
      "execution_count": 18,
      "outputs": [
        {
          "output_type": "stream",
          "text": [
            "r^2 Test: 0.3526629433077292\n",
            "W= [[ 0.          0.          0.         ...  0.         -0.\n",
            "  -0.        ]\n",
            " [-0.         -0.         -0.         ... -0.         -0.\n",
            "  -0.        ]\n",
            " [-0.28921938 -0.21978109 -0.         ... -0.         -0.\n",
            "  -0.        ]\n",
            " ...\n",
            " [ 0.          0.          0.         ...  0.          0.\n",
            "   0.        ]\n",
            " [-0.         -0.         -0.         ... -0.         -0.\n",
            "  -0.        ]\n",
            " [-0.         -0.         -0.         ... -0.         -0.\n",
            "  -0.        ]]\n",
            "Total no. of Non-Zero elements in Wrms= 507.0\n"
          ],
          "name": "stdout"
        }
      ]
    },
    {
      "cell_type": "markdown",
      "metadata": {
        "id": "SlOk9WDVFWNt"
      },
      "source": [
        "## More fun\n",
        "\n",
        "If you want to more on this lab:\n",
        "* Install the [MNE python package](https://martinos.org/mne/stable/index.html).  This is an amazing package with many tools for processing EEG data.\n",
        "* In particular, you can use the above results to visualize where in the brain the currents sources are.\n",
        "* You can also improve the fitting with more regularization.  For example, we know that the currents will be non-zero in groups:  If the current is non-zero for one time, it is likely to non-zero for all time.  You can use the Group LASSO method.\n",
        "* You can combine these results to make predictions about what the patient is seeing or hearing or thinking."
      ]
    },
    {
      "cell_type": "code",
      "metadata": {
        "id": "3B2RmbUvFWNv"
      },
      "source": [
        ""
      ],
      "execution_count": null,
      "outputs": []
    }
  ]
}