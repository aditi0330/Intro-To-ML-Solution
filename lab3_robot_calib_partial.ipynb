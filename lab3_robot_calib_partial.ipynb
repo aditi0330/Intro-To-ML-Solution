{
  "nbformat": 4,
  "nbformat_minor": 0,
  "metadata": {
    "anaconda-cloud": {},
    "kernelspec": {
      "display_name": "Python 3",
      "language": "python",
      "name": "python3"
    },
    "language_info": {
      "codemirror_mode": {
        "name": "ipython",
        "version": 3
      },
      "file_extension": ".py",
      "mimetype": "text/x-python",
      "name": "python",
      "nbconvert_exporter": "python",
      "pygments_lexer": "ipython3",
      "version": "3.6.6"
    },
    "colab": {
      "name": "lab_robot_calib_partial.ipynb",
      "provenance": []
    }
  },
  "cells": [
    {
      "cell_type": "markdown",
      "metadata": {
        "id": "5iT7dOGXfZdL",
        "colab_type": "text"
      },
      "source": [
        "# Multiple Linear Regression for Robot Calibration\n",
        "\n",
        "In this lab, we will illustrate the use of multiple linear regression for calibrating robot control.  In addition to reviewing the concepts in the [multiple linear regression demo](./glucose.ipynb), you will see how to use multiple linear regression for time series data -- an important concept in dynamical systems such as robotics.\n",
        "\n",
        "The robot data for the lab is taken generously from the TU Dortmund's [Multiple Link Robot Arms Project](http://www.rst.e-technik.tu-dortmund.de/cms/en/research/robotics/TUDOR_engl/index.html).  As part of the project, they have created an excellent public dataset: [MERIt](http://www.rst.e-technik.tu-dortmund.de/cms/en/research/robotics/TUDOR_engl/index.html#h3MERIt) -- A Multi-Elastic-Link Robot Identification Dataset that can be used for understanding robot dynamics.  The data is from a three link robot:\n",
        "\n",
        "<img src=\"http://www.rst.e-technik.tu-dortmund.de/cms/Medienpool/redaktionelleBilder/Forschung/Schwerpunkte/TUDOR_engl/TUDORBild.png\" height=\"200\" width=\"200\">\n",
        "\n",
        "\n",
        "We will focus on predicting the current draw into one of the joints as a function of the robot motion.  Such models are essential in predicting the overall robot power consumption.  Several other models could also be used."
      ]
    },
    {
      "cell_type": "markdown",
      "metadata": {
        "id": "lVghGBoefZdN",
        "colab_type": "text"
      },
      "source": [
        "## Load and Visualize the Data\n",
        "First, import the modules we will need."
      ]
    },
    {
      "cell_type": "code",
      "metadata": {
        "id": "6V_jGG4rfZdO",
        "colab_type": "code",
        "colab": {}
      },
      "source": [
        "import pandas as pd\n",
        "import numpy as np\n",
        "import matplotlib\n",
        "import matplotlib.pyplot as plt\n",
        "%matplotlib inline"
      ],
      "execution_count": 22,
      "outputs": []
    },
    {
      "cell_type": "markdown",
      "metadata": {
        "id": "a2Qu_yKJfZdS",
        "colab_type": "text"
      },
      "source": [
        "The full MERIt dataset can be obtained from the [MERIt site](http://www.rst.e-technik.tu-dortmund.de/cms/en/research/robotics/TUDOR_engl/index.html#h3MERIt).  But, this dataset is large.  Included in this repository are two of the ten experiments.  Each experiments corresonds to 80 seconds of recorded motion.  We will use the following files:\n",
        "* [exp1.csv](./exp1.csv) for training\n",
        "* [exp2.csv](./exp2.csv) for test\n",
        "\n",
        "Below, I have supplied the column headers in the `names` array.  Use the `pd.read_csv` command to load the data.  Use the `index_col` option to specify that column 0 (the one with time) is the *index* column.  You can review [simple linear regression demo](..\\simp_lin_reg\\auto_mpg.ipynb) for examples of using the `pd.read_csv` command."
      ]
    },
    {
      "cell_type": "code",
      "metadata": {
        "id": "mTpqgpBQfZdT",
        "colab_type": "code",
        "colab": {}
      },
      "source": [
        "names =[\n",
        "    't',                                  # Time (secs)\n",
        "    'q1', 'q2', 'q3',                     # Joint angle   (rads)\n",
        "    'dq1', 'dq2', 'dq3',                  # Joint velocity (rads/sec)\n",
        "    'I1', 'I2', 'I3',                     # Motor current (A)\n",
        "    'eps21', 'eps22', 'eps31', 'eps32',   # Strain gauge measurements ($\\mu$m /m )\n",
        "    'ddq1', 'ddq2', 'ddq3'                # Joint accelerations (rad/sec^2)\n",
        "]\n",
        "# TODO \n",
        "df = pd.read_csv('https://raw.githubusercontent.com/sdrangan/introml/12713f7238a852fb895c4778e71bc22671ec3a0a/unit03_mult_lin_reg/exp1.csv', names=names, index_col=0)"
      ],
      "execution_count": 23,
      "outputs": []
    },
    {
      "cell_type": "markdown",
      "metadata": {
        "id": "wcd1L-LpfZdX",
        "colab_type": "text"
      },
      "source": [
        "Print the first six lines of the pandas dataframe and manually check that they match the first rows of the csv file."
      ]
    },
    {
      "cell_type": "code",
      "metadata": {
        "id": "QD_6hquufZdY",
        "colab_type": "code",
        "colab": {
          "base_uri": "https://localhost:8080/",
          "height": 254
        },
        "outputId": "dea37569-12b4-4111-8860-3334109de6e7"
      },
      "source": [
        "\n",
        "df.head(6)"
      ],
      "execution_count": 24,
      "outputs": [
        {
          "output_type": "execute_result",
          "data": {
            "text/html": [
              "<div>\n",
              "<style scoped>\n",
              "    .dataframe tbody tr th:only-of-type {\n",
              "        vertical-align: middle;\n",
              "    }\n",
              "\n",
              "    .dataframe tbody tr th {\n",
              "        vertical-align: top;\n",
              "    }\n",
              "\n",
              "    .dataframe thead th {\n",
              "        text-align: right;\n",
              "    }\n",
              "</style>\n",
              "<table border=\"1\" class=\"dataframe\">\n",
              "  <thead>\n",
              "    <tr style=\"text-align: right;\">\n",
              "      <th></th>\n",
              "      <th>q1</th>\n",
              "      <th>q2</th>\n",
              "      <th>q3</th>\n",
              "      <th>dq1</th>\n",
              "      <th>dq2</th>\n",
              "      <th>dq3</th>\n",
              "      <th>I1</th>\n",
              "      <th>I2</th>\n",
              "      <th>I3</th>\n",
              "      <th>eps21</th>\n",
              "      <th>eps22</th>\n",
              "      <th>eps31</th>\n",
              "      <th>eps32</th>\n",
              "      <th>ddq1</th>\n",
              "      <th>ddq2</th>\n",
              "      <th>ddq3</th>\n",
              "    </tr>\n",
              "    <tr>\n",
              "      <th>t</th>\n",
              "      <th></th>\n",
              "      <th></th>\n",
              "      <th></th>\n",
              "      <th></th>\n",
              "      <th></th>\n",
              "      <th></th>\n",
              "      <th></th>\n",
              "      <th></th>\n",
              "      <th></th>\n",
              "      <th></th>\n",
              "      <th></th>\n",
              "      <th></th>\n",
              "      <th></th>\n",
              "      <th></th>\n",
              "      <th></th>\n",
              "      <th></th>\n",
              "    </tr>\n",
              "  </thead>\n",
              "  <tbody>\n",
              "    <tr>\n",
              "      <th>0.00</th>\n",
              "      <td>-0.000007</td>\n",
              "      <td>2.4958</td>\n",
              "      <td>-1.1345</td>\n",
              "      <td>-7.882100e-21</td>\n",
              "      <td>-4.940656e-321</td>\n",
              "      <td>3.913100e-29</td>\n",
              "      <td>-0.081623</td>\n",
              "      <td>-0.40812</td>\n",
              "      <td>-0.30609</td>\n",
              "      <td>-269.25</td>\n",
              "      <td>-113.20</td>\n",
              "      <td>3.5918</td>\n",
              "      <td>1.57860</td>\n",
              "      <td>-9.904900e-19</td>\n",
              "      <td>-6.210306e-319</td>\n",
              "      <td>4.917400e-27</td>\n",
              "    </tr>\n",
              "    <tr>\n",
              "      <th>0.01</th>\n",
              "      <td>-0.000007</td>\n",
              "      <td>2.4958</td>\n",
              "      <td>-1.1345</td>\n",
              "      <td>-2.258200e-21</td>\n",
              "      <td>-4.940656e-321</td>\n",
              "      <td>2.626200e-31</td>\n",
              "      <td>-0.037411</td>\n",
              "      <td>-0.37241</td>\n",
              "      <td>-0.26698</td>\n",
              "      <td>-270.91</td>\n",
              "      <td>-116.05</td>\n",
              "      <td>1.4585</td>\n",
              "      <td>-1.73980</td>\n",
              "      <td>4.248100e-19</td>\n",
              "      <td>-1.766878e-319</td>\n",
              "      <td>-1.381100e-27</td>\n",
              "    </tr>\n",
              "    <tr>\n",
              "      <th>0.02</th>\n",
              "      <td>-0.000007</td>\n",
              "      <td>2.4958</td>\n",
              "      <td>-1.1345</td>\n",
              "      <td>-6.469800e-22</td>\n",
              "      <td>-4.940656e-321</td>\n",
              "      <td>1.762500e-33</td>\n",
              "      <td>-0.066319</td>\n",
              "      <td>-0.40302</td>\n",
              "      <td>-0.31459</td>\n",
              "      <td>-269.25</td>\n",
              "      <td>-112.97</td>\n",
              "      <td>3.5918</td>\n",
              "      <td>0.86753</td>\n",
              "      <td>3.233800e-19</td>\n",
              "      <td>-4.990557e-320</td>\n",
              "      <td>-4.117300e-28</td>\n",
              "    </tr>\n",
              "    <tr>\n",
              "      <th>0.03</th>\n",
              "      <td>-0.000007</td>\n",
              "      <td>2.4958</td>\n",
              "      <td>-1.1345</td>\n",
              "      <td>-1.853600e-22</td>\n",
              "      <td>-4.940656e-321</td>\n",
              "      <td>1.182800e-35</td>\n",
              "      <td>-0.068020</td>\n",
              "      <td>-0.43703</td>\n",
              "      <td>-0.28398</td>\n",
              "      <td>-269.97</td>\n",
              "      <td>-114.39</td>\n",
              "      <td>1.6956</td>\n",
              "      <td>-0.08059</td>\n",
              "      <td>1.500500e-19</td>\n",
              "      <td>-1.394253e-320</td>\n",
              "      <td>-1.173100e-28</td>\n",
              "    </tr>\n",
              "    <tr>\n",
              "      <th>0.04</th>\n",
              "      <td>-0.000007</td>\n",
              "      <td>2.4958</td>\n",
              "      <td>-1.1345</td>\n",
              "      <td>-5.310600e-23</td>\n",
              "      <td>-4.940656e-321</td>\n",
              "      <td>-5.270900e-03</td>\n",
              "      <td>-0.052715</td>\n",
              "      <td>-0.40472</td>\n",
              "      <td>-0.30779</td>\n",
              "      <td>-269.97</td>\n",
              "      <td>-114.15</td>\n",
              "      <td>3.1177</td>\n",
              "      <td>0.86753</td>\n",
              "      <td>5.932400e-20</td>\n",
              "      <td>-3.581976e-321</td>\n",
              "      <td>-3.770800e-01</td>\n",
              "    </tr>\n",
              "    <tr>\n",
              "      <th>0.05</th>\n",
              "      <td>-0.000007</td>\n",
              "      <td>2.4958</td>\n",
              "      <td>-1.1345</td>\n",
              "      <td>-1.521500e-23</td>\n",
              "      <td>-4.940656e-321</td>\n",
              "      <td>3.252600e-04</td>\n",
              "      <td>-0.088425</td>\n",
              "      <td>-0.42342</td>\n",
              "      <td>-0.29589</td>\n",
              "      <td>-269.25</td>\n",
              "      <td>-114.15</td>\n",
              "      <td>2.4066</td>\n",
              "      <td>-0.08059</td>\n",
              "      <td>2.164600e-20</td>\n",
              "      <td>-1.141292e-321</td>\n",
              "      <td>2.930300e-01</td>\n",
              "    </tr>\n",
              "  </tbody>\n",
              "</table>\n",
              "</div>"
            ],
            "text/plain": [
              "            q1      q2      q3  ...          ddq1           ddq2          ddq3\n",
              "t                               ...                                           \n",
              "0.00 -0.000007  2.4958 -1.1345  ... -9.904900e-19 -6.210306e-319  4.917400e-27\n",
              "0.01 -0.000007  2.4958 -1.1345  ...  4.248100e-19 -1.766878e-319 -1.381100e-27\n",
              "0.02 -0.000007  2.4958 -1.1345  ...  3.233800e-19 -4.990557e-320 -4.117300e-28\n",
              "0.03 -0.000007  2.4958 -1.1345  ...  1.500500e-19 -1.394253e-320 -1.173100e-28\n",
              "0.04 -0.000007  2.4958 -1.1345  ...  5.932400e-20 -3.581976e-321 -3.770800e-01\n",
              "0.05 -0.000007  2.4958 -1.1345  ...  2.164600e-20 -1.141292e-321  2.930300e-01\n",
              "\n",
              "[6 rows x 16 columns]"
            ]
          },
          "metadata": {
            "tags": []
          },
          "execution_count": 24
        }
      ]
    },
    {
      "cell_type": "markdown",
      "metadata": {
        "id": "dcS-e_2bfZdc",
        "colab_type": "text"
      },
      "source": [
        "From the dataframe `df`, extract the time indices into a vector `t` and extract `I2`, the current into the second joint.  Place the current in a vector `y` and plot `y` vs. `t`.   Label the axes with the units."
      ]
    },
    {
      "cell_type": "code",
      "metadata": {
        "id": "8QgwSdPMfZde",
        "colab_type": "code",
        "colab": {
          "base_uri": "https://localhost:8080/",
          "height": 414
        },
        "outputId": "bf97ff7e-e527-4d62-f233-662ce06d6639"
      },
      "source": [
        "# TODO\n",
        "t = df.index\n",
        "print(t)\n",
        "y = np.array(df['I2'])\n",
        "print(y)\n",
        "plt.plot(t,y)\n",
        "plt.xlabel('Time in seconds')\n",
        "plt.ylabel('Motor current in Amp')"
      ],
      "execution_count": 25,
      "outputs": [
        {
          "output_type": "stream",
          "text": [
            "Float64Index([  0.0,  0.01,  0.02,  0.03,  0.04,  0.05,  0.06,  0.07,  0.08,\n",
            "               0.09,\n",
            "              ...\n",
            "               79.9, 79.91, 79.92, 79.93, 79.94, 79.95, 79.96, 79.97, 79.98,\n",
            "              79.99],\n",
            "             dtype='float64', name='t', length=8000)\n",
            "[-0.40812  -0.37241  -0.40302  ...  0.06802   0.011903  0.037411]\n"
          ],
          "name": "stdout"
        },
        {
          "output_type": "execute_result",
          "data": {
            "text/plain": [
              "Text(0, 0.5, 'Motor current in Amp')"
            ]
          },
          "metadata": {
            "tags": []
          },
          "execution_count": 25
        },
        {
          "output_type": "display_data",
          "data": {
            "image/png": "[encoded data removed]",
            "text/plain": [
              "<Figure size 432x288 with 1 Axes>"
            ]
          },
          "metadata": {
            "tags": [],
            "needs_background": "light"
          }
        }
      ]
    },
    {
      "cell_type": "markdown",
      "metadata": {
        "id": "cjAHuZ-GfZdh",
        "colab_type": "text"
      },
      "source": [
        "Use all the samples from the experiment 1 dataset to create the training data:\n",
        "* `ytrain`:  A vector of all the samples from the `I2` column\n",
        "* `Xtrain`:  A matrix of the data with the columns:  `['q2','dq2','eps21', 'eps22', 'eps31', 'eps32','ddq2']`"
      ]
    },
    {
      "cell_type": "code",
      "metadata": {
        "id": "g8evLKtGfZdh",
        "colab_type": "code",
        "colab": {
          "base_uri": "https://localhost:8080/",
          "height": 50
        },
        "outputId": "e4021d30-cfbe-4d97-9d9d-906b0e7a66d3"
      },
      "source": [
        "# TODO\n",
        "\n",
        "ytrain = np.array(df['I2'])\n",
        "df_new=df[['q2','dq2','eps21','eps22','eps31','eps32','ddq2']]\n",
        "\n",
        "Xtrain = np.mat(df[['q2','dq2','eps21', 'eps22', 'eps31', 'eps32','ddq2']])\n",
        "\n",
        "ytrain"
      ],
      "execution_count": 36,
      "outputs": [
        {
          "output_type": "execute_result",
          "data": {
            "text/plain": [
              "array([-0.40812 , -0.37241 , -0.40302 , ...,  0.06802 ,  0.011903,\n",
              "        0.037411])"
            ]
          },
          "metadata": {
            "tags": []
          },
          "execution_count": 36
        }
      ]
    },
    {
      "cell_type": "markdown",
      "metadata": {
        "id": "D8AHCuhsfZdk",
        "colab_type": "text"
      },
      "source": [
        "## Fit a Linear Model\n",
        "Use the `sklearn.linear_model` module to create a `LinearRegression` class `regr`."
      ]
    },
    {
      "cell_type": "code",
      "metadata": {
        "id": "2nyOjJBjfZdl",
        "colab_type": "code",
        "colab": {}
      },
      "source": [
        "from sklearn import linear_model\n",
        "\n",
        "# Create linear regression object\n",
        "# TODO\n",
        "regr = linear_model.LinearRegression()"
      ],
      "execution_count": 37,
      "outputs": []
    },
    {
      "cell_type": "markdown",
      "metadata": {
        "id": "Is_uVRKCfZdo",
        "colab_type": "text"
      },
      "source": [
        "Train the model on the training data."
      ]
    },
    {
      "cell_type": "code",
      "metadata": {
        "id": "aINBFm9OfZdo",
        "colab_type": "code",
        "colab": {
          "base_uri": "https://localhost:8080/",
          "height": 50
        },
        "outputId": "1aafaf4d-8a93-40e1-ec59-ff6dc038aa70"
      },
      "source": [
        "# TODO\n",
        "regr.fit(df_new,ytrain)\n",
        "regr.coef_"
      ],
      "execution_count": 38,
      "outputs": [
        {
          "output_type": "execute_result",
          "data": {
            "text/plain": [
              "array([ 0.06255018,  0.20584896,  0.00118784,  0.00044457, -0.0031362 ,\n",
              "        0.00603298,  0.05487097])"
            ]
          },
          "metadata": {
            "tags": []
          },
          "execution_count": 38
        }
      ]
    },
    {
      "cell_type": "markdown",
      "metadata": {
        "id": "lKo4SellfZdr",
        "colab_type": "text"
      },
      "source": [
        "Using the trained model, compute, `ytrain_pred`, the predicted current.  Plot `ytrain_pred` vs. time `t`.  On the same plot, plot the actual current `ytrain` vs. time `t`.  Create a legend for the plot."
      ]
    },
    {
      "cell_type": "code",
      "metadata": {
        "id": "jCw3wDhqfZdr",
        "colab_type": "code",
        "colab": {
          "base_uri": "https://localhost:8080/",
          "height": 296
        },
        "outputId": "dc9bba0d-8efc-427e-b11b-34e91b15262d"
      },
      "source": [
        "# TODO\n",
        "ytrain_pred = regr.predict(df_new)\n",
        "plt.plot(t,ytrain_pred,'red',label='Predicted')\n",
        "plt.plot(t,ytrain,'black',label='Actual')\n",
        "plt.legend()\n",
        "plt.xlabel('Time in seconds')\n",
        "plt.ylabel('Motor current in Amp')"
      ],
      "execution_count": 45,
      "outputs": [
        {
          "output_type": "execute_result",
          "data": {
            "text/plain": [
              "Text(0, 0.5, 'Motor current in Amp')"
            ]
          },
          "metadata": {
            "tags": []
          },
          "execution_count": 45
        },
        {
          "output_type": "display_data",
          "data": {
            "image/png": "[encoded data removed]",
            "text/plain": [
              "<Figure size 432x288 with 1 Axes>"
            ]
          },
          "metadata": {
            "tags": [],
            "needs_background": "light"
          }
        }
      ]
    },
    {
      "cell_type": "markdown",
      "metadata": {
        "id": "TiEzHFMOfZdu",
        "colab_type": "text"
      },
      "source": [
        "Measure the normalized RSS given by `RSS / (n s^2_y)."
      ]
    },
    {
      "cell_type": "code",
      "metadata": {
        "id": "ODvkeZV_fZdu",
        "colab_type": "code",
        "colab": {
          "base_uri": "https://localhost:8080/",
          "height": 34
        },
        "outputId": "3fd348eb-d898-4c4a-cafe-a9655589383f"
      },
      "source": [
        "# TODO\n",
        "\n",
        "RSS_norm = np.mean((ytrain_pred-ytrain)**2)/(np.std(ytrain)**2)\n",
        "RSS_norm"
      ],
      "execution_count": 46,
      "outputs": [
        {
          "output_type": "execute_result",
          "data": {
            "text/plain": [
              "0.09583263861233197"
            ]
          },
          "metadata": {
            "tags": []
          },
          "execution_count": 46
        }
      ]
    },
    {
      "cell_type": "markdown",
      "metadata": {
        "id": "NbZeGzrTfZdx",
        "colab_type": "text"
      },
      "source": [
        "## Measure the Fit on an Indepdent Dataset\n",
        "\n",
        "Up to now, we have only tested the model on the same data on which it was trained.  In general, we need to test model on independent data not used in the training.  For this purpose, load the data in `exp2.csv`.  Compute the regression predicted values on this data and plot the predicted and actual values over time."
      ]
    },
    {
      "cell_type": "code",
      "metadata": {
        "id": "7YU9d2t9fZdx",
        "colab_type": "code",
        "colab": {
          "base_uri": "https://localhost:8080/",
          "height": 254
        },
        "outputId": "52fc1ee6-dfc9-457b-c4ba-11a521b5a337"
      },
      "source": [
        "# TODO\n",
        "test_df = pd.read_csv('https://raw.githubusercontent.com/sdrangan/introml/12713f7238a852fb895c4778e71bc22671ec3a0a/unit03_mult_lin_reg/exp2.csv', names=names, index_col=0)\n",
        "test_df.head(6)"
      ],
      "execution_count": 47,
      "outputs": [
        {
          "output_type": "execute_result",
          "data": {
            "text/html": [
              "<div>\n",
              "<style scoped>\n",
              "    .dataframe tbody tr th:only-of-type {\n",
              "        vertical-align: middle;\n",
              "    }\n",
              "\n",
              "    .dataframe tbody tr th {\n",
              "        vertical-align: top;\n",
              "    }\n",
              "\n",
              "    .dataframe thead th {\n",
              "        text-align: right;\n",
              "    }\n",
              "</style>\n",
              "<table border=\"1\" class=\"dataframe\">\n",
              "  <thead>\n",
              "    <tr style=\"text-align: right;\">\n",
              "      <th></th>\n",
              "      <th>q1</th>\n",
              "      <th>q2</th>\n",
              "      <th>q3</th>\n",
              "      <th>dq1</th>\n",
              "      <th>dq2</th>\n",
              "      <th>dq3</th>\n",
              "      <th>I1</th>\n",
              "      <th>I2</th>\n",
              "      <th>I3</th>\n",
              "      <th>eps21</th>\n",
              "      <th>eps22</th>\n",
              "      <th>eps31</th>\n",
              "      <th>eps32</th>\n",
              "      <th>ddq1</th>\n",
              "      <th>ddq2</th>\n",
              "      <th>ddq3</th>\n",
              "    </tr>\n",
              "    <tr>\n",
              "      <th>t</th>\n",
              "      <th></th>\n",
              "      <th></th>\n",
              "      <th></th>\n",
              "      <th></th>\n",
              "      <th></th>\n",
              "      <th></th>\n",
              "      <th></th>\n",
              "      <th></th>\n",
              "      <th></th>\n",
              "      <th></th>\n",
              "      <th></th>\n",
              "      <th></th>\n",
              "      <th></th>\n",
              "      <th></th>\n",
              "      <th></th>\n",
              "      <th></th>\n",
              "    </tr>\n",
              "  </thead>\n",
              "  <tbody>\n",
              "    <tr>\n",
              "      <th>0.00</th>\n",
              "      <td>-0.000007</td>\n",
              "      <td>1.9024</td>\n",
              "      <td>0.26063</td>\n",
              "      <td>-0.000364</td>\n",
              "      <td>4.940656e-321</td>\n",
              "      <td>0.012596</td>\n",
              "      <td>-0.096928</td>\n",
              "      <td>-0.15134</td>\n",
              "      <td>-0.017005</td>\n",
              "      <td>-130.83</td>\n",
              "      <td>-41.856</td>\n",
              "      <td>-6.3635</td>\n",
              "      <td>5.13410</td>\n",
              "      <td>-0.045712</td>\n",
              "      <td>6.210306e-319</td>\n",
              "      <td>1.582900</td>\n",
              "    </tr>\n",
              "    <tr>\n",
              "      <th>0.01</th>\n",
              "      <td>0.000013</td>\n",
              "      <td>1.9024</td>\n",
              "      <td>0.26073</td>\n",
              "      <td>0.000739</td>\n",
              "      <td>4.940656e-321</td>\n",
              "      <td>0.012095</td>\n",
              "      <td>-0.028908</td>\n",
              "      <td>-0.11903</td>\n",
              "      <td>-0.020406</td>\n",
              "      <td>-138.18</td>\n",
              "      <td>-51.100</td>\n",
              "      <td>-14.6590</td>\n",
              "      <td>-5.05820</td>\n",
              "      <td>0.125580</td>\n",
              "      <td>1.766878e-319</td>\n",
              "      <td>0.414660</td>\n",
              "    </tr>\n",
              "    <tr>\n",
              "      <th>0.02</th>\n",
              "      <td>-0.000007</td>\n",
              "      <td>1.9024</td>\n",
              "      <td>0.26086</td>\n",
              "      <td>-0.000580</td>\n",
              "      <td>4.940656e-321</td>\n",
              "      <td>0.011596</td>\n",
              "      <td>-0.059517</td>\n",
              "      <td>-0.13944</td>\n",
              "      <td>-0.047614</td>\n",
              "      <td>-139.36</td>\n",
              "      <td>-51.812</td>\n",
              "      <td>-14.6590</td>\n",
              "      <td>-5.29520</td>\n",
              "      <td>-0.130080</td>\n",
              "      <td>4.990557e-320</td>\n",
              "      <td>0.082286</td>\n",
              "    </tr>\n",
              "    <tr>\n",
              "      <th>0.03</th>\n",
              "      <td>0.000013</td>\n",
              "      <td>1.9024</td>\n",
              "      <td>0.26099</td>\n",
              "      <td>0.001409</td>\n",
              "      <td>4.940656e-321</td>\n",
              "      <td>0.013933</td>\n",
              "      <td>-0.079923</td>\n",
              "      <td>-0.15304</td>\n",
              "      <td>-0.023807</td>\n",
              "      <td>-135.57</td>\n",
              "      <td>-48.019</td>\n",
              "      <td>-11.3410</td>\n",
              "      <td>-0.79168</td>\n",
              "      <td>0.213010</td>\n",
              "      <td>1.394253e-320</td>\n",
              "      <td>0.190650</td>\n",
              "    </tr>\n",
              "    <tr>\n",
              "      <th>0.04</th>\n",
              "      <td>-0.000007</td>\n",
              "      <td>1.9024</td>\n",
              "      <td>0.26110</td>\n",
              "      <td>-0.001273</td>\n",
              "      <td>4.940656e-321</td>\n",
              "      <td>0.010793</td>\n",
              "      <td>-0.025507</td>\n",
              "      <td>-0.12924</td>\n",
              "      <td>-0.006802</td>\n",
              "      <td>-135.81</td>\n",
              "      <td>-49.204</td>\n",
              "      <td>-12.0520</td>\n",
              "      <td>-2.21390</td>\n",
              "      <td>-0.276490</td>\n",
              "      <td>3.581976e-321</td>\n",
              "      <td>-0.170400</td>\n",
              "    </tr>\n",
              "    <tr>\n",
              "      <th>0.05</th>\n",
              "      <td>-0.000007</td>\n",
              "      <td>1.9024</td>\n",
              "      <td>0.26124</td>\n",
              "      <td>0.001928</td>\n",
              "      <td>4.940656e-321</td>\n",
              "      <td>0.011915</td>\n",
              "      <td>-0.083324</td>\n",
              "      <td>-0.14964</td>\n",
              "      <td>-0.034010</td>\n",
              "      <td>-139.60</td>\n",
              "      <td>-53.471</td>\n",
              "      <td>-16.0820</td>\n",
              "      <td>-6.95450</td>\n",
              "      <td>0.323560</td>\n",
              "      <td>1.141292e-321</td>\n",
              "      <td>0.031745</td>\n",
              "    </tr>\n",
              "  </tbody>\n",
              "</table>\n",
              "</div>"
            ],
            "text/plain": [
              "            q1      q2       q3  ...      ddq1           ddq2      ddq3\n",
              "t                                ...                                   \n",
              "0.00 -0.000007  1.9024  0.26063  ... -0.045712  6.210306e-319  1.582900\n",
              "0.01  0.000013  1.9024  0.26073  ...  0.125580  1.766878e-319  0.414660\n",
              "0.02 -0.000007  1.9024  0.26086  ... -0.130080  4.990557e-320  0.082286\n",
              "0.03  0.000013  1.9024  0.26099  ...  0.213010  1.394253e-320  0.190650\n",
              "0.04 -0.000007  1.9024  0.26110  ... -0.276490  3.581976e-321 -0.170400\n",
              "0.05 -0.000007  1.9024  0.26124  ...  0.323560  1.141292e-321  0.031745\n",
              "\n",
              "[6 rows x 16 columns]"
            ]
          },
          "metadata": {
            "tags": []
          },
          "execution_count": 47
        }
      ]
    },
    {
      "cell_type": "markdown",
      "metadata": {
        "id": "IDSjOL0hfZd0",
        "colab_type": "text"
      },
      "source": [
        "Measure the normalized RSS on the test data."
      ]
    },
    {
      "cell_type": "code",
      "metadata": {
        "id": "31Q77K8ofZd1",
        "colab_type": "code",
        "colab": {
          "base_uri": "https://localhost:8080/",
          "height": 296
        },
        "outputId": "97cdf2e7-dbf4-48d7-e139-92369bed89ed"
      },
      "source": [
        "# TODO\n",
        "# RSS_test = ...\n",
        "ytest = np.array(test_df['I2'])\n",
        "test_df_2=test_df[['q2','dq2','eps21','eps22','eps31','eps32','ddq2']]\n",
        "y_test_pred = regr.predict(test_df_2)\n",
        "#Xtest = (test_df_2.as_matrix)\n",
        "regr.fit(df_new,ytest)\n",
        "plt.plot(t,y_test_pred,'red',label='Predicted')\n",
        "plt.plot(t,ytest,'black',label='Actual')\n",
        "plt.legend()\n",
        "plt.xlabel('Time in seconds')\n",
        "plt.ylabel('Motor current in Amp')"
      ],
      "execution_count": 49,
      "outputs": [
        {
          "output_type": "execute_result",
          "data": {
            "text/plain": [
              "Text(0, 0.5, 'Motor current in Amp')"
            ]
          },
          "metadata": {
            "tags": []
          },
          "execution_count": 49
        },
        {
          "output_type": "display_data",
          "data": {
            "image/png": "[encoded data removed]",
            "text/plain": [
              "<Figure size 432x288 with 1 Axes>"
            ]
          },
          "metadata": {
            "tags": [],
            "needs_background": "light"
          }
        }
      ]
    },
    {
      "cell_type": "code",
      "metadata": {
        "id": "9sAwoAtyfZd4",
        "colab_type": "code",
        "colab": {
          "base_uri": "https://localhost:8080/",
          "height": 34
        },
        "outputId": "1369bdb4-6975-4b94-8c34-e381a8a73c81"
      },
      "source": [
        "\n",
        "RSS_norm = np.mean((y_test_pred-ytest)**2)/(np.std(ytest)**2)\n",
        "RSS_norm"
      ],
      "execution_count": 50,
      "outputs": [
        {
          "output_type": "execute_result",
          "data": {
            "text/plain": [
              "0.12678048804762418"
            ]
          },
          "metadata": {
            "tags": []
          },
          "execution_count": 50
        }
      ]
    }
  ]
}